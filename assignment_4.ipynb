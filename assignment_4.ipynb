{
  "nbformat": 4,
  "nbformat_minor": 0,
  "metadata": {
    "colab": {
      "provenance": []
    },
    "kernelspec": {
      "name": "python3",
      "display_name": "Python 3"
    },
    "language_info": {
      "name": "python"
    }
  },
  "cells": [
    {
      "cell_type": "code",
      "execution_count": 1,
      "metadata": {
        "colab": {
          "base_uri": "https://localhost:8080/"
        },
        "id": "nHFjqfvh7mSS",
        "outputId": "d43f619a-bb16-4b06-a388-dc4cb4da4ea8"
      },
      "outputs": [
        {
          "output_type": "stream",
          "name": "stdout",
          "text": [
            "Task 1:\n",
            "Slope (M): 2.620967741935484\n",
            "Y-intercept (C): 35.16129032258065\n",
            "Predicted price for weight 6: 50.88709677419355\n",
            "\n",
            "Task 2:\n",
            "Weight | Actual Price | Predicted Price | Residual\n",
            "[[  2.          35.          40.40322581  -5.40322581]\n",
            " [  4.          60.          45.64516129  14.35483871]\n",
            " [  5.          20.          48.26612903 -28.26612903]\n",
            " [  3.          50.          43.02419355   6.97580645]\n",
            " [  6.          50.          50.88709677  -0.88709677]\n",
            " [  5.          55.          48.26612903   6.73387097]\n",
            " [  7.          60.          53.50806452   6.49193548]]\n",
            "\n",
            "Task 3:\n",
            "Mean Squared Error (MSE): 167.30990783410135\n",
            "Mean Absolute Error (MAE): 9.87327188940092\n"
          ]
        }
      ],
      "source": [
        "import numpy as np\n",
        "\n",
        "# Task 1: Ordinary Least Squares Linear Regression\n",
        "\n",
        "# Given data\n",
        "weights = np.array([2, 4, 5, 3, 6, 5, 7])\n",
        "prices = np.array([35, 60, 20, 50, 50, 55, 60])\n",
        "\n",
        "# Calculate the slope (M) and y-intercept (C)\n",
        "n = len(weights)\n",
        "sum_x = np.sum(weights)\n",
        "sum_y = np.sum(prices)\n",
        "sum_xy = np.sum(weights * prices)\n",
        "sum_x_squared = np.sum(weights**2)\n",
        "\n",
        "slope_M = (n * sum_xy - sum_x * sum_y) / (n * sum_x_squared - sum_x**2)\n",
        "intercept_C = (sum_y - slope_M * sum_x) / n\n",
        "\n",
        "# Predict the price when the weight is 6\n",
        "predicted_price = slope_M * 6 + intercept_C\n",
        "\n",
        "print(\"Task 1:\")\n",
        "print(\"Slope (M):\", slope_M)\n",
        "print(\"Y-intercept (C):\", intercept_C)\n",
        "print(\"Predicted price for weight 6:\", predicted_price)\n",
        "\n",
        "# Task 2: Compute the residuals\n",
        "\n",
        "# Calculate residuals\n",
        "predicted_prices = slope_M * weights + intercept_C\n",
        "residuals = prices - predicted_prices\n",
        "\n",
        "print(\"\\nTask 2:\")\n",
        "residuals_table = np.column_stack((weights, prices, predicted_prices, residuals))\n",
        "print(\"Weight | Actual Price | Predicted Price | Residual\")\n",
        "print(residuals_table)\n",
        "\n",
        "# Task 3: Calculate Mean Squared Error (MSE) and Mean Absolute Error (MAE)\n",
        "\n",
        "# Calculate Mean Squared Error (MSE)\n",
        "mse = np.mean(residuals**2)\n",
        "\n",
        "# Calculate Mean Absolute Error (MAE)\n",
        "mae = np.mean(np.abs(residuals))\n",
        "\n",
        "print(\"\\nTask 3:\")\n",
        "print(\"Mean Squared Error (MSE):\", mse)\n",
        "print(\"Mean Absolute Error (MAE):\", mae)\n"
      ]
    },
    {
      "cell_type": "code",
      "source": [],
      "metadata": {
        "id": "IDv1Mjba8rWo"
      },
      "execution_count": null,
      "outputs": []
    }
  ]
}